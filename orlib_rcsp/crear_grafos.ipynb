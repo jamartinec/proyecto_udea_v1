{
 "cells": [
  {
   "cell_type": "code",
   "execution_count": 8,
   "metadata": {},
   "outputs": [],
   "source": [
    "import os\n",
    "import pickle as pkl"
   ]
  },
  {
   "cell_type": "code",
   "execution_count": 2,
   "metadata": {},
   "outputs": [],
   "source": [
    "instancias = os.listdir('instancias')"
   ]
  },
  {
   "cell_type": "code",
   "execution_count": null,
   "metadata": {},
   "outputs": [],
   "source": [
    "# Definimos una función que lea el .txt que contiene la información de la instancia y retorne cuatro listas\n"
   ]
  },
  {
   "cell_type": "code",
   "execution_count": 4,
   "metadata": {},
   "outputs": [],
   "source": [
    "def give_format_instance(route_instance):\n",
    "    with open(route_instance, 'r') as f:\n",
    "        numbers=f.readline().split()\n",
    "        num_vertices=int(numbers[0])\n",
    "        num_arcs = int(numbers[1])\n",
    "        num_resr = int(numbers[2])\n",
    "\n",
    "        r_l=f.readline().split()\n",
    "        r_l=list(map(int, r_l))\n",
    "        r_u =f.readline().split()\n",
    "        r_u=list(map(int, r_u))\n",
    "        ventanas_path=[ (r_l[i],r_u[i] )  for i in range(len(r_u)) ]\n",
    "\n",
    "\n",
    "        dict_vertex_rsr=dict()\n",
    "        for v in range(num_vertices):\n",
    "            resource_consump_int=list(map(int,f.readline().split() ))\n",
    "            dict_vertex_rsr[v+1]=resource_consump_int\n",
    "\n",
    "        dict_arc, dict_arc_cost,dict_arc_consump  =dict(), dict(), dict()\n",
    "    \n",
    "\n",
    "        for a in range(num_arcs):\n",
    "            arc_info_int=list(map(int,f.readline().split()))\n",
    "            arco=(arc_info_int[0],arc_info_int[1])\n",
    "            arc_cost =arc_info_int[2]\n",
    "            arc_consump=arc_info_int[3:]\n",
    "            dict_arc[a] = arco\n",
    "            dict_arc_cost[arco]=arc_cost\n",
    "            dict_arc_consump[arco]=arc_consump\n",
    "        #Para estas instancias los recursos no tienen nombre, los estamos identificando por el índice \n",
    "        #(orden) de aparición. No parece muy buena idea la estructura que propusimos para inicializar \n",
    "        #grafo consumo.\n",
    "        \n",
    "        recursos_nodos=dict()\n",
    "        for r  in range(num_resr):\n",
    "            recursos_nodos[str(r+1)]=dict()\n",
    "            for v in dict_vertex_rsr.keys():\n",
    "                recursos_nodos[str(r+1)][v] =dict_vertex_rsr[v][r]\n",
    "        \n",
    "        recursos_arcos=dict()\n",
    "        for r  in range(num_resr):\n",
    "            recursos_arcos[str(r+1)]=dict()\n",
    "            for a in dict_arc_consump.keys():\n",
    "                recursos_arcos[str(r+1)][a] =dict_arc_consump[a][r]\n",
    "        \n",
    "        ventanas_recursos=list()\n",
    "        for r in range(num_resr):\n",
    "            ventanas_recursos.append([r_l[r],r_u[r]])\n",
    "        \n",
    "        restricciones_nodos=dict()\n",
    "        for r  in range(num_resr):\n",
    "            restricciones_nodos[str(r+1)]=dict()\n",
    "            for v in dict_vertex_rsr.keys():\n",
    "                restricciones_nodos[str(r+1)][v] =ventanas_recursos[r]\n",
    "    \n",
    "    return [recursos_nodos, recursos_arcos, restricciones_nodos, dict_arc_cost]"
   ]
  },
  {
   "cell_type": "code",
   "execution_count": 10,
   "metadata": {},
   "outputs": [],
   "source": [
    "def save_instances(name,lista_grafo):\n",
    "    file_name = r'instancia_diccionarios/' +name + '.pkl'\n",
    "    with open(file_name, 'wb') as a_file:\n",
    "        pkl.dump(lista_grafo, a_file)\n",
    "     "
   ]
  },
  {
   "cell_type": "code",
   "execution_count": 15,
   "metadata": {},
   "outputs": [],
   "source": [
    "def generar_guardar_instancias():\n",
    "    instancias = os.listdir('instancias')\n",
    "    for inst in instancias:\n",
    "        route_instance = r'instancias/'+inst\n",
    "        lista_grafo = give_format_instance(route_instance)\n",
    "        name = inst.split('.')[0]\n",
    "        save_instances(name, lista_grafo)\n",
    "        \n",
    "        "
   ]
  },
  {
   "cell_type": "code",
   "execution_count": 16,
   "metadata": {},
   "outputs": [],
   "source": [
    "generar_guardar_instancias()"
   ]
  },
  {
   "cell_type": "code",
   "execution_count": null,
   "metadata": {},
   "outputs": [],
   "source": []
  }
 ],
 "metadata": {
  "kernelspec": {
   "display_name": "Python 3",
   "language": "python",
   "name": "python3"
  },
  "language_info": {
   "codemirror_mode": {
    "name": "ipython",
    "version": 3
   },
   "file_extension": ".py",
   "mimetype": "text/x-python",
   "name": "python",
   "nbconvert_exporter": "python",
   "pygments_lexer": "ipython3",
   "version": "3.7.9"
  }
 },
 "nbformat": 4,
 "nbformat_minor": 4
}
